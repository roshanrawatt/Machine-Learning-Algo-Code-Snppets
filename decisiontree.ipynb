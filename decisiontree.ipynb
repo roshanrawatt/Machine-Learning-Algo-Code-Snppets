{
 "cells": [
  {
   "cell_type": "code",
   "execution_count": 1,
   "metadata": {},
   "outputs": [],
   "source": [
    "import pandas as pd\r\n",
    "from sklearn.model_selection import train_test_split\r\n",
    "from sklearn.metrics import accuracy_score\r\n",
    "from sklearn.tree import DecisionTreeClassifier\r\n",
    "from sklearn import tree"
   ]
  },
  {
   "cell_type": "code",
   "execution_count": 2,
   "metadata": {},
   "outputs": [],
   "source": [
    "data=pd.read_csv(\"iris.csv\")"
   ]
  },
  {
   "cell_type": "code",
   "execution_count": 3,
   "metadata": {},
   "outputs": [
    {
     "data": {
      "text/html": [
       "<div>\n",
       "<style scoped>\n",
       "    .dataframe tbody tr th:only-of-type {\n",
       "        vertical-align: middle;\n",
       "    }\n",
       "\n",
       "    .dataframe tbody tr th {\n",
       "        vertical-align: top;\n",
       "    }\n",
       "\n",
       "    .dataframe thead th {\n",
       "        text-align: right;\n",
       "    }\n",
       "</style>\n",
       "<table border=\"1\" class=\"dataframe\">\n",
       "  <thead>\n",
       "    <tr style=\"text-align: right;\">\n",
       "      <th></th>\n",
       "      <th>Sepal.Length</th>\n",
       "      <th>Sepal.Width</th>\n",
       "      <th>Petal.Length</th>\n",
       "      <th>Petal.Width</th>\n",
       "      <th>Species</th>\n",
       "    </tr>\n",
       "  </thead>\n",
       "  <tbody>\n",
       "    <tr>\n",
       "      <th>0</th>\n",
       "      <td>5.1</td>\n",
       "      <td>3.5</td>\n",
       "      <td>1.4</td>\n",
       "      <td>0.2</td>\n",
       "      <td>setosa</td>\n",
       "    </tr>\n",
       "    <tr>\n",
       "      <th>1</th>\n",
       "      <td>4.9</td>\n",
       "      <td>3.0</td>\n",
       "      <td>1.4</td>\n",
       "      <td>0.2</td>\n",
       "      <td>setosa</td>\n",
       "    </tr>\n",
       "    <tr>\n",
       "      <th>2</th>\n",
       "      <td>4.7</td>\n",
       "      <td>3.2</td>\n",
       "      <td>1.3</td>\n",
       "      <td>0.2</td>\n",
       "      <td>setosa</td>\n",
       "    </tr>\n",
       "    <tr>\n",
       "      <th>3</th>\n",
       "      <td>4.6</td>\n",
       "      <td>3.1</td>\n",
       "      <td>1.5</td>\n",
       "      <td>0.2</td>\n",
       "      <td>setosa</td>\n",
       "    </tr>\n",
       "    <tr>\n",
       "      <th>4</th>\n",
       "      <td>5.0</td>\n",
       "      <td>3.6</td>\n",
       "      <td>1.4</td>\n",
       "      <td>0.2</td>\n",
       "      <td>setosa</td>\n",
       "    </tr>\n",
       "  </tbody>\n",
       "</table>\n",
       "</div>"
      ],
      "text/plain": [
       "   Sepal.Length  Sepal.Width  Petal.Length  Petal.Width Species\n",
       "0           5.1          3.5           1.4          0.2  setosa\n",
       "1           4.9          3.0           1.4          0.2  setosa\n",
       "2           4.7          3.2           1.3          0.2  setosa\n",
       "3           4.6          3.1           1.5          0.2  setosa\n",
       "4           5.0          3.6           1.4          0.2  setosa"
      ]
     },
     "execution_count": 3,
     "metadata": {},
     "output_type": "execute_result"
    }
   ],
   "source": [
    "data.head()"
   ]
  },
  {
   "cell_type": "code",
   "execution_count": 4,
   "metadata": {},
   "outputs": [
    {
     "data": {
      "text/html": [
       "<div>\n",
       "<style scoped>\n",
       "    .dataframe tbody tr th:only-of-type {\n",
       "        vertical-align: middle;\n",
       "    }\n",
       "\n",
       "    .dataframe tbody tr th {\n",
       "        vertical-align: top;\n",
       "    }\n",
       "\n",
       "    .dataframe thead th {\n",
       "        text-align: right;\n",
       "    }\n",
       "</style>\n",
       "<table border=\"1\" class=\"dataframe\">\n",
       "  <thead>\n",
       "    <tr style=\"text-align: right;\">\n",
       "      <th></th>\n",
       "      <th>Sepal.Length</th>\n",
       "      <th>Sepal.Width</th>\n",
       "      <th>Petal.Length</th>\n",
       "      <th>Petal.Width</th>\n",
       "    </tr>\n",
       "  </thead>\n",
       "  <tbody>\n",
       "    <tr>\n",
       "      <th>0</th>\n",
       "      <td>5.1</td>\n",
       "      <td>3.5</td>\n",
       "      <td>1.4</td>\n",
       "      <td>0.2</td>\n",
       "    </tr>\n",
       "    <tr>\n",
       "      <th>1</th>\n",
       "      <td>4.9</td>\n",
       "      <td>3.0</td>\n",
       "      <td>1.4</td>\n",
       "      <td>0.2</td>\n",
       "    </tr>\n",
       "    <tr>\n",
       "      <th>2</th>\n",
       "      <td>4.7</td>\n",
       "      <td>3.2</td>\n",
       "      <td>1.3</td>\n",
       "      <td>0.2</td>\n",
       "    </tr>\n",
       "    <tr>\n",
       "      <th>3</th>\n",
       "      <td>4.6</td>\n",
       "      <td>3.1</td>\n",
       "      <td>1.5</td>\n",
       "      <td>0.2</td>\n",
       "    </tr>\n",
       "    <tr>\n",
       "      <th>4</th>\n",
       "      <td>5.0</td>\n",
       "      <td>3.6</td>\n",
       "      <td>1.4</td>\n",
       "      <td>0.2</td>\n",
       "    </tr>\n",
       "    <tr>\n",
       "      <th>...</th>\n",
       "      <td>...</td>\n",
       "      <td>...</td>\n",
       "      <td>...</td>\n",
       "      <td>...</td>\n",
       "    </tr>\n",
       "    <tr>\n",
       "      <th>145</th>\n",
       "      <td>6.7</td>\n",
       "      <td>3.0</td>\n",
       "      <td>5.2</td>\n",
       "      <td>2.3</td>\n",
       "    </tr>\n",
       "    <tr>\n",
       "      <th>146</th>\n",
       "      <td>6.3</td>\n",
       "      <td>2.5</td>\n",
       "      <td>5.0</td>\n",
       "      <td>1.9</td>\n",
       "    </tr>\n",
       "    <tr>\n",
       "      <th>147</th>\n",
       "      <td>6.5</td>\n",
       "      <td>3.0</td>\n",
       "      <td>5.2</td>\n",
       "      <td>2.0</td>\n",
       "    </tr>\n",
       "    <tr>\n",
       "      <th>148</th>\n",
       "      <td>6.2</td>\n",
       "      <td>3.4</td>\n",
       "      <td>5.4</td>\n",
       "      <td>2.3</td>\n",
       "    </tr>\n",
       "    <tr>\n",
       "      <th>149</th>\n",
       "      <td>5.9</td>\n",
       "      <td>3.0</td>\n",
       "      <td>5.1</td>\n",
       "      <td>1.8</td>\n",
       "    </tr>\n",
       "  </tbody>\n",
       "</table>\n",
       "<p>150 rows × 4 columns</p>\n",
       "</div>"
      ],
      "text/plain": [
       "     Sepal.Length  Sepal.Width  Petal.Length  Petal.Width\n",
       "0             5.1          3.5           1.4          0.2\n",
       "1             4.9          3.0           1.4          0.2\n",
       "2             4.7          3.2           1.3          0.2\n",
       "3             4.6          3.1           1.5          0.2\n",
       "4             5.0          3.6           1.4          0.2\n",
       "..            ...          ...           ...          ...\n",
       "145           6.7          3.0           5.2          2.3\n",
       "146           6.3          2.5           5.0          1.9\n",
       "147           6.5          3.0           5.2          2.0\n",
       "148           6.2          3.4           5.4          2.3\n",
       "149           5.9          3.0           5.1          1.8\n",
       "\n",
       "[150 rows x 4 columns]"
      ]
     },
     "execution_count": 4,
     "metadata": {},
     "output_type": "execute_result"
    }
   ],
   "source": [
    "X=data.iloc[:,0:4]\r\n",
    "y=data.iloc[:,4]\r\n",
    "X"
   ]
  },
  {
   "cell_type": "code",
   "execution_count": 5,
   "metadata": {},
   "outputs": [
    {
     "data": {
      "text/plain": [
       "0         setosa\n",
       "1         setosa\n",
       "2         setosa\n",
       "3         setosa\n",
       "4         setosa\n",
       "         ...    \n",
       "145    virginica\n",
       "146    virginica\n",
       "147    virginica\n",
       "148    virginica\n",
       "149    virginica\n",
       "Name: Species, Length: 150, dtype: object"
      ]
     },
     "execution_count": 5,
     "metadata": {},
     "output_type": "execute_result"
    }
   ],
   "source": [
    "y"
   ]
  },
  {
   "cell_type": "code",
   "execution_count": 6,
   "metadata": {},
   "outputs": [
    {
     "name": "stdout",
     "output_type": "stream",
     "text": [
      "X_train (120, 4)\n",
      "Y_train (120,)\n",
      "X_test (30, 4)\n",
      "Y_test (30,)\n"
     ]
    }
   ],
   "source": [
    "X_train,X_test,Y_train,Y_test=train_test_split(X,y,test_size=0.2,random_state=30)\r\n",
    "print('X_train',X_train.shape)\r\n",
    "print('Y_train',Y_train.shape)\r\n",
    "print('X_test',X_test.shape)\r\n",
    "print('Y_test',Y_test.shape)"
   ]
  },
  {
   "cell_type": "code",
   "execution_count": 8,
   "metadata": {},
   "outputs": [
    {
     "data": {
      "text/plain": [
       "139     virginica\n",
       "81     versicolor\n",
       "112     virginica\n",
       "127     virginica\n",
       "118     virginica\n",
       "          ...    \n",
       "53     versicolor\n",
       "130     virginica\n",
       "140     virginica\n",
       "45         setosa\n",
       "37         setosa\n",
       "Name: Species, Length: 120, dtype: object"
      ]
     },
     "execution_count": 8,
     "metadata": {},
     "output_type": "execute_result"
    }
   ],
   "source": [
    "Y_train"
   ]
  },
  {
   "cell_type": "code",
   "execution_count": 9,
   "metadata": {},
   "outputs": [],
   "source": [
    "tree_model=DecisionTreeClassifier()"
   ]
  },
  {
   "cell_type": "code",
   "execution_count": 10,
   "metadata": {},
   "outputs": [
    {
     "data": {
      "text/plain": [
       "DecisionTreeClassifier()"
      ]
     },
     "execution_count": 10,
     "metadata": {},
     "output_type": "execute_result"
    }
   ],
   "source": [
    "tree_model.fit(X_train,Y_train)\r\n"
   ]
  },
  {
   "cell_type": "code",
   "execution_count": 11,
   "metadata": {},
   "outputs": [
    {
     "data": {
      "text/plain": [
       "0.9666666666666667"
      ]
     },
     "execution_count": 11,
     "metadata": {},
     "output_type": "execute_result"
    }
   ],
   "source": [
    "predictions=tree_model.predict(X_test)\r\n",
    "accuracy_score(Y_test,predictions)"
   ]
  },
  {
   "cell_type": "code",
   "execution_count": 12,
   "metadata": {},
   "outputs": [
    {
     "name": "stdout",
     "output_type": "stream",
     "text": [
      "0.24.2\n"
     ]
    },
    {
     "data": {
      "text/plain": [
       "[Text(186.0, 201.90857142857143, 'X[3] <= 0.8\\ngini = 0.666\\nsamples = 120\\nvalue = [38, 41, 41]'),\n",
       " Text(148.8, 170.84571428571428, 'gini = 0.0\\nsamples = 38\\nvalue = [38, 0, 0]'),\n",
       " Text(223.20000000000002, 170.84571428571428, 'X[3] <= 1.75\\ngini = 0.5\\nsamples = 82\\nvalue = [0, 41, 41]'),\n",
       " Text(186.0, 139.78285714285715, 'X[2] <= 5.35\\ngini = 0.162\\nsamples = 45\\nvalue = [0, 41, 4]'),\n",
       " Text(148.8, 108.72, 'X[0] <= 4.95\\ngini = 0.089\\nsamples = 43\\nvalue = [0, 41, 2]'),\n",
       " Text(74.4, 77.65714285714284, 'X[1] <= 2.45\\ngini = 0.5\\nsamples = 2\\nvalue = [0, 1, 1]'),\n",
       " Text(37.2, 46.59428571428572, 'gini = 0.0\\nsamples = 1\\nvalue = [0, 1, 0]'),\n",
       " Text(111.60000000000001, 46.59428571428572, 'gini = 0.0\\nsamples = 1\\nvalue = [0, 0, 1]'),\n",
       " Text(223.20000000000002, 77.65714285714284, 'X[2] <= 4.95\\ngini = 0.048\\nsamples = 41\\nvalue = [0, 40, 1]'),\n",
       " Text(186.0, 46.59428571428572, 'gini = 0.0\\nsamples = 38\\nvalue = [0, 38, 0]'),\n",
       " Text(260.40000000000003, 46.59428571428572, 'X[3] <= 1.55\\ngini = 0.444\\nsamples = 3\\nvalue = [0, 2, 1]'),\n",
       " Text(223.20000000000002, 15.531428571428563, 'gini = 0.0\\nsamples = 1\\nvalue = [0, 0, 1]'),\n",
       " Text(297.6, 15.531428571428563, 'gini = 0.0\\nsamples = 2\\nvalue = [0, 2, 0]'),\n",
       " Text(223.20000000000002, 108.72, 'gini = 0.0\\nsamples = 2\\nvalue = [0, 0, 2]'),\n",
       " Text(260.40000000000003, 139.78285714285715, 'gini = 0.0\\nsamples = 37\\nvalue = [0, 0, 37]')]"
      ]
     },
     "execution_count": 12,
     "metadata": {},
     "output_type": "execute_result"
    },
    {
     "data": {
      "image/png": "[encoded data removed]",
      "text/plain": [
       "<Figure size 432x288 with 1 Axes>"
      ]
     },
     "metadata": {
      "needs_background": "light"
     },
     "output_type": "display_data"
    }
   ],
   "source": [
    "import sklearn\r\n",
    "print (sklearn.__version__)\r\n",
    "tree.plot_tree(tree_model)"
   ]
  },
  {
   "cell_type": "code",
   "execution_count": 13,
   "metadata": {},
   "outputs": [],
   "source": [
    "from sklearn.tree import DecisionTreeRegressor\r\n",
    "from sklearn.metrics import r2_score,mean_squared_error"
   ]
  },
  {
   "cell_type": "code",
   "execution_count": 14,
   "metadata": {},
   "outputs": [],
   "source": [
    "from sklearn.preprocessing import OrdinalEncoder\r\n",
    "ord_enc = OrdinalEncoder()\r\n"
   ]
  },
  {
   "cell_type": "code",
   "execution_count": 15,
   "metadata": {},
   "outputs": [
    {
     "data": {
      "text/html": [
       "<div>\n",
       "<style scoped>\n",
       "    .dataframe tbody tr th:only-of-type {\n",
       "        vertical-align: middle;\n",
       "    }\n",
       "\n",
       "    .dataframe tbody tr th {\n",
       "        vertical-align: top;\n",
       "    }\n",
       "\n",
       "    .dataframe thead th {\n",
       "        text-align: right;\n",
       "    }\n",
       "</style>\n",
       "<table border=\"1\" class=\"dataframe\">\n",
       "  <thead>\n",
       "    <tr style=\"text-align: right;\">\n",
       "      <th></th>\n",
       "      <th>Species</th>\n",
       "      <th>species_code</th>\n",
       "    </tr>\n",
       "  </thead>\n",
       "  <tbody>\n",
       "    <tr>\n",
       "      <th>0</th>\n",
       "      <td>setosa</td>\n",
       "      <td>0.0</td>\n",
       "    </tr>\n",
       "    <tr>\n",
       "      <th>1</th>\n",
       "      <td>setosa</td>\n",
       "      <td>0.0</td>\n",
       "    </tr>\n",
       "    <tr>\n",
       "      <th>2</th>\n",
       "      <td>setosa</td>\n",
       "      <td>0.0</td>\n",
       "    </tr>\n",
       "    <tr>\n",
       "      <th>3</th>\n",
       "      <td>setosa</td>\n",
       "      <td>0.0</td>\n",
       "    </tr>\n",
       "    <tr>\n",
       "      <th>4</th>\n",
       "      <td>setosa</td>\n",
       "      <td>0.0</td>\n",
       "    </tr>\n",
       "  </tbody>\n",
       "</table>\n",
       "</div>"
      ],
      "text/plain": [
       "  Species  species_code\n",
       "0  setosa           0.0\n",
       "1  setosa           0.0\n",
       "2  setosa           0.0\n",
       "3  setosa           0.0\n",
       "4  setosa           0.0"
      ]
     },
     "execution_count": 15,
     "metadata": {},
     "output_type": "execute_result"
    }
   ],
   "source": [
    "data[\"species_code\"] = ord_enc.fit_transform(data[[\"Species\"]])\r\n",
    "data[[\"Species\", \"species_code\"]].head(5)"
   ]
  },
  {
   "cell_type": "code",
   "execution_count": 16,
   "metadata": {},
   "outputs": [
    {
     "data": {
      "text/html": [
       "<div>\n",
       "<style scoped>\n",
       "    .dataframe tbody tr th:only-of-type {\n",
       "        vertical-align: middle;\n",
       "    }\n",
       "\n",
       "    .dataframe tbody tr th {\n",
       "        vertical-align: top;\n",
       "    }\n",
       "\n",
       "    .dataframe thead th {\n",
       "        text-align: right;\n",
       "    }\n",
       "</style>\n",
       "<table border=\"1\" class=\"dataframe\">\n",
       "  <thead>\n",
       "    <tr style=\"text-align: right;\">\n",
       "      <th></th>\n",
       "      <th>Sepal.Length</th>\n",
       "      <th>Sepal.Width</th>\n",
       "      <th>Petal.Length</th>\n",
       "      <th>Petal.Width</th>\n",
       "      <th>Species</th>\n",
       "      <th>species_code</th>\n",
       "    </tr>\n",
       "  </thead>\n",
       "  <tbody>\n",
       "    <tr>\n",
       "      <th>0</th>\n",
       "      <td>5.1</td>\n",
       "      <td>3.5</td>\n",
       "      <td>1.4</td>\n",
       "      <td>0.2</td>\n",
       "      <td>setosa</td>\n",
       "      <td>0.0</td>\n",
       "    </tr>\n",
       "    <tr>\n",
       "      <th>1</th>\n",
       "      <td>4.9</td>\n",
       "      <td>3.0</td>\n",
       "      <td>1.4</td>\n",
       "      <td>0.2</td>\n",
       "      <td>setosa</td>\n",
       "      <td>0.0</td>\n",
       "    </tr>\n",
       "    <tr>\n",
       "      <th>2</th>\n",
       "      <td>4.7</td>\n",
       "      <td>3.2</td>\n",
       "      <td>1.3</td>\n",
       "      <td>0.2</td>\n",
       "      <td>setosa</td>\n",
       "      <td>0.0</td>\n",
       "    </tr>\n",
       "    <tr>\n",
       "      <th>3</th>\n",
       "      <td>4.6</td>\n",
       "      <td>3.1</td>\n",
       "      <td>1.5</td>\n",
       "      <td>0.2</td>\n",
       "      <td>setosa</td>\n",
       "      <td>0.0</td>\n",
       "    </tr>\n",
       "    <tr>\n",
       "      <th>4</th>\n",
       "      <td>5.0</td>\n",
       "      <td>3.6</td>\n",
       "      <td>1.4</td>\n",
       "      <td>0.2</td>\n",
       "      <td>setosa</td>\n",
       "      <td>0.0</td>\n",
       "    </tr>\n",
       "  </tbody>\n",
       "</table>\n",
       "</div>"
      ],
      "text/plain": [
       "   Sepal.Length  Sepal.Width  Petal.Length  Petal.Width Species  species_code\n",
       "0           5.1          3.5           1.4          0.2  setosa           0.0\n",
       "1           4.9          3.0           1.4          0.2  setosa           0.0\n",
       "2           4.7          3.2           1.3          0.2  setosa           0.0\n",
       "3           4.6          3.1           1.5          0.2  setosa           0.0\n",
       "4           5.0          3.6           1.4          0.2  setosa           0.0"
      ]
     },
     "execution_count": 16,
     "metadata": {},
     "output_type": "execute_result"
    }
   ],
   "source": [
    "data.head()"
   ]
  },
  {
   "cell_type": "code",
   "execution_count": 17,
   "metadata": {},
   "outputs": [
    {
     "data": {
      "text/html": [
       "<div>\n",
       "<style scoped>\n",
       "    .dataframe tbody tr th:only-of-type {\n",
       "        vertical-align: middle;\n",
       "    }\n",
       "\n",
       "    .dataframe tbody tr th {\n",
       "        vertical-align: top;\n",
       "    }\n",
       "\n",
       "    .dataframe thead th {\n",
       "        text-align: right;\n",
       "    }\n",
       "</style>\n",
       "<table border=\"1\" class=\"dataframe\">\n",
       "  <thead>\n",
       "    <tr style=\"text-align: right;\">\n",
       "      <th></th>\n",
       "      <th>Sepal.Length</th>\n",
       "      <th>Petal.Length</th>\n",
       "      <th>Petal.Width</th>\n",
       "      <th>species_code</th>\n",
       "    </tr>\n",
       "  </thead>\n",
       "  <tbody>\n",
       "    <tr>\n",
       "      <th>0</th>\n",
       "      <td>5.1</td>\n",
       "      <td>1.4</td>\n",
       "      <td>0.2</td>\n",
       "      <td>0.0</td>\n",
       "    </tr>\n",
       "    <tr>\n",
       "      <th>1</th>\n",
       "      <td>4.9</td>\n",
       "      <td>1.4</td>\n",
       "      <td>0.2</td>\n",
       "      <td>0.0</td>\n",
       "    </tr>\n",
       "    <tr>\n",
       "      <th>2</th>\n",
       "      <td>4.7</td>\n",
       "      <td>1.3</td>\n",
       "      <td>0.2</td>\n",
       "      <td>0.0</td>\n",
       "    </tr>\n",
       "    <tr>\n",
       "      <th>3</th>\n",
       "      <td>4.6</td>\n",
       "      <td>1.5</td>\n",
       "      <td>0.2</td>\n",
       "      <td>0.0</td>\n",
       "    </tr>\n",
       "    <tr>\n",
       "      <th>4</th>\n",
       "      <td>5.0</td>\n",
       "      <td>1.4</td>\n",
       "      <td>0.2</td>\n",
       "      <td>0.0</td>\n",
       "    </tr>\n",
       "  </tbody>\n",
       "</table>\n",
       "</div>"
      ],
      "text/plain": [
       "   Sepal.Length  Petal.Length  Petal.Width  species_code\n",
       "0           5.1           1.4          0.2           0.0\n",
       "1           4.9           1.4          0.2           0.0\n",
       "2           4.7           1.3          0.2           0.0\n",
       "3           4.6           1.5          0.2           0.0\n",
       "4           5.0           1.4          0.2           0.0"
      ]
     },
     "execution_count": 17,
     "metadata": {},
     "output_type": "execute_result"
    }
   ],
   "source": [
    "X2=data.iloc[:,[0,2,3,5]]\r\n",
    "X2.head()\r\n"
   ]
  },
  {
   "cell_type": "code",
   "execution_count": 18,
   "metadata": {},
   "outputs": [
    {
     "data": {
      "text/plain": [
       "0    3.5\n",
       "1    3.0\n",
       "2    3.2\n",
       "3    3.1\n",
       "4    3.6\n",
       "Name: Sepal.Width, dtype: float64"
      ]
     },
     "execution_count": 18,
     "metadata": {},
     "output_type": "execute_result"
    }
   ],
   "source": [
    "y2=data.iloc[:,1]\r\n",
    "y2.head()"
   ]
  },
  {
   "cell_type": "code",
   "execution_count": 19,
   "metadata": {},
   "outputs": [],
   "source": [
    "X_train2,X_test2,Y_train2,Y_test2=train_test_split(X2,y2,test_size=0.2,random_state=30)"
   ]
  },
  {
   "cell_type": "code",
   "execution_count": 30,
   "metadata": {},
   "outputs": [
    {
     "name": "stdout",
     "output_type": "stream",
     "text": [
      "X_train (120, 4)\n",
      "Y_train (120,)\n",
      "X_test (30, 4)\n",
      "Y_test (30,)\n"
     ]
    }
   ],
   "source": [
    "print('X_train',X_train2.shape)\r\n",
    "print('Y_train',Y_train2.shape)\r\n",
    "print('X_test',X_test2.shape)\r\n",
    "print('Y_test',Y_test2.shape)"
   ]
  },
  {
   "cell_type": "code",
   "execution_count": 20,
   "metadata": {},
   "outputs": [
    {
     "data": {
      "text/plain": [
       "array([3.4, 3.9, 3.1, 2.7, 2.7, 2.4, 2.7, 3. , 2.9, 2.9, 3. , 2.9, 2.3,\n",
       "       2.8, 2.9, 2.9, 4.1, 3. , 3.4, 2.5, 2.8, 3.2, 3.5, 3.2, 3. , 2.8,\n",
       "       3.2, 3.4, 3.2, 2.3])"
      ]
     },
     "execution_count": 20,
     "metadata": {},
     "output_type": "execute_result"
    }
   ],
   "source": [
    "Y_test2.values"
   ]
  },
  {
   "cell_type": "code",
   "execution_count": 21,
   "metadata": {},
   "outputs": [
    {
     "data": {
      "text/plain": [
       "DecisionTreeRegressor()"
      ]
     },
     "execution_count": 21,
     "metadata": {},
     "output_type": "execute_result"
    }
   ],
   "source": [
    "model=DecisionTreeRegressor()\r\n",
    "model.fit(X_train2,Y_train2)"
   ]
  },
  {
   "cell_type": "code",
   "execution_count": 22,
   "metadata": {},
   "outputs": [
    {
     "name": "stdout",
     "output_type": "stream",
     "text": [
      "Actual [3.4 3.9 3.1 2.7 2.7 2.4 2.7 3.  2.9 2.9 3.  2.9 2.3 2.8 2.9 2.9 4.1 3.\n",
      " 3.4 2.5 2.8 3.2 3.5 3.2 3.  2.8 3.2 3.4 3.2 2.3] Predicted [3.8  3.8  3.2  2.7  2.5  2.4  2.5  3.1  3.2  2.8  2.3  2.5  2.4  3.\n",
      " 2.3  2.2  3.5  3.6  3.25 2.5  2.5  2.3  3.4  3.5  2.8  3.   3.   3.2\n",
      " 3.6  3.2 ]\n"
     ]
    }
   ],
   "source": [
    "predictions2=model.predict(X_test2)\r\n",
    "print('Actual',Y_test2.values,'Predicted',predictions2)"
   ]
  },
  {
   "cell_type": "code",
   "execution_count": 23,
   "metadata": {},
   "outputs": [
    {
     "data": {
      "text/plain": [
       "0.15975000000000003"
      ]
     },
     "execution_count": 23,
     "metadata": {},
     "output_type": "execute_result"
    }
   ],
   "source": [
    "mse=mean_squared_error(Y_test2.values,predictions2)\r\n",
    "mse"
   ]
  },
  {
   "cell_type": "code",
   "execution_count": 24,
   "metadata": {},
   "outputs": [
    {
     "data": {
      "text/plain": [
       "[Text(151.5420403587444, 210.645, 'X[2] <= 0.8\\nmse = 0.194\\nsamples = 120\\nvalue = 3.071'),\n",
       " Text(56.86345291479821, 197.055, 'X[0] <= 5.05\\nmse = 0.142\\nsamples = 38\\nvalue = 3.461'),\n",
       " Text(15.764125560538117, 183.465, 'X[0] <= 4.55\\nmse = 0.09\\nsamples = 20\\nvalue = 3.235'),\n",
       " Text(6.005381165919283, 169.875, 'X[1] <= 1.2\\nmse = 0.122\\nsamples = 2\\nvalue = 2.65'),\n",
       " Text(3.0026905829596413, 156.285, 'mse = 0.0\\nsamples = 1\\nvalue = 3.0'),\n",
       " Text(9.008071748878924, 156.285, 'mse = 0.0\\nsamples = 1\\nvalue = 2.3'),\n",
       " Text(25.522869955156953, 169.875, 'X[1] <= 1.35\\nmse = 0.044\\nsamples = 18\\nvalue = 3.3'),\n",
       " Text(15.013452914798206, 156.285, 'X[0] <= 4.8\\nmse = 0.003\\nsamples = 2\\nvalue = 3.55'),\n",
       " Text(12.010762331838565, 142.695, 'mse = 0.0\\nsamples = 1\\nvalue = 3.6'),\n",
       " Text(18.01614349775785, 142.695, 'mse = 0.0\\nsamples = 1\\nvalue = 3.5'),\n",
       " Text(36.0322869955157, 156.285, 'X[0] <= 4.95\\nmse = 0.041\\nsamples = 16\\nvalue = 3.269'),\n",
       " Text(24.02152466367713, 142.695, 'X[0] <= 4.65\\nmse = 0.035\\nsamples = 10\\nvalue = 3.21'),\n",
       " Text(18.01614349775785, 129.10500000000002, 'X[2] <= 0.25\\nmse = 0.01\\nsamples = 2\\nvalue = 3.3'),\n",
       " Text(15.013452914798206, 115.515, 'mse = 0.0\\nsamples = 1\\nvalue = 3.2'),\n",
       " Text(21.01883408071749, 115.515, 'mse = 0.0\\nsamples = 1\\nvalue = 3.4'),\n",
       " Text(30.026905829596412, 129.10500000000002, 'X[2] <= 0.25\\nmse = 0.039\\nsamples = 8\\nvalue = 3.187'),\n",
       " Text(27.02421524663677, 115.515, 'X[1] <= 1.45\\nmse = 0.038\\nsamples = 7\\nvalue = 3.214'),\n",
       " Text(19.517488789237667, 101.925, 'X[0] <= 4.85\\nmse = 0.09\\nsamples = 2\\nvalue = 3.3'),\n",
       " Text(16.514798206278027, 88.33500000000001, 'mse = 0.0\\nsamples = 1\\nvalue = 3.0'),\n",
       " Text(22.52017937219731, 88.33500000000001, 'mse = 0.0\\nsamples = 1\\nvalue = 3.6'),\n",
       " Text(34.530941704035875, 101.925, 'X[0] <= 4.85\\nmse = 0.014\\nsamples = 5\\nvalue = 3.18'),\n",
       " Text(28.525560538116594, 88.33500000000001, 'X[0] <= 4.75\\nmse = 0.016\\nsamples = 3\\nvalue = 3.233'),\n",
       " Text(25.522869955156953, 74.745, 'mse = 0.0\\nsamples = 1\\nvalue = 3.2'),\n",
       " Text(31.528251121076234, 74.745, 'mse = 0.023\\nsamples = 2\\nvalue = 3.25'),\n",
       " Text(40.53632286995516, 88.33500000000001, 'X[2] <= 0.15\\nmse = 0.0\\nsamples = 2\\nvalue = 3.1'),\n",
       " Text(37.53363228699552, 74.745, 'mse = 0.0\\nsamples = 1\\nvalue = 3.1'),\n",
       " Text(43.5390134529148, 74.745, 'mse = 0.0\\nsamples = 1\\nvalue = 3.1'),\n",
       " Text(33.02959641255605, 115.515, 'mse = 0.0\\nsamples = 1\\nvalue = 3.0'),\n",
       " Text(48.04304932735426, 142.695, 'X[1] <= 1.55\\nmse = 0.036\\nsamples = 6\\nvalue = 3.367'),\n",
       " Text(42.03766816143498, 129.10500000000002, 'X[1] <= 1.45\\nmse = 0.016\\nsamples = 3\\nvalue = 3.433'),\n",
       " Text(39.034977578475335, 115.515, 'mse = 0.022\\nsamples = 2\\nvalue = 3.45'),\n",
       " Text(45.04035874439462, 115.515, 'mse = -0.0\\nsamples = 1\\nvalue = 3.4'),\n",
       " Text(54.04843049327354, 129.10500000000002, 'X[2] <= 0.3\\nmse = 0.047\\nsamples = 3\\nvalue = 3.3'),\n",
       " Text(51.045739910313905, 115.515, 'mse = 0.0\\nsamples = 1\\nvalue = 3.0'),\n",
       " Text(57.05112107623319, 115.515, 'X[2] <= 0.5\\nmse = 0.002\\nsamples = 2\\nvalue = 3.45'),\n",
       " Text(54.04843049327354, 101.925, 'mse = 0.0\\nsamples = 1\\nvalue = 3.4'),\n",
       " Text(60.053811659192824, 101.925, 'mse = -0.0\\nsamples = 1\\nvalue = 3.5'),\n",
       " Text(97.9627802690583, 183.465, 'X[0] <= 5.45\\nmse = 0.081\\nsamples = 18\\nvalue = 3.711'),\n",
       " Text(84.82600896860987, 169.875, 'X[2] <= 0.45\\nmse = 0.036\\nsamples = 13\\nvalue = 3.608'),\n",
       " Text(81.82331838565023, 156.285, 'X[1] <= 1.35\\nmse = 0.031\\nsamples = 12\\nvalue = 3.633'),\n",
       " Text(78.82062780269058, 142.695, 'mse = 0.0\\nsamples = 1\\nvalue = 3.9'),\n",
       " Text(84.82600896860987, 142.695, 'X[1] <= 1.55\\nmse = 0.026\\nsamples = 11\\nvalue = 3.609'),\n",
       " Text(76.56860986547085, 129.10500000000002, 'X[1] <= 1.45\\nmse = 0.022\\nsamples = 9\\nvalue = 3.567'),\n",
       " Text(69.06188340807175, 115.515, 'X[2] <= 0.25\\nmse = 0.002\\nsamples = 2\\nvalue = 3.45'),\n",
       " Text(66.0591928251121, 101.925, 'mse = 0.0\\nsamples = 1\\nvalue = 3.4'),\n",
       " Text(72.0645739910314, 101.925, 'mse = -0.0\\nsamples = 1\\nvalue = 3.5'),\n",
       " Text(84.07533632286996, 115.515, 'X[2] <= 0.35\\nmse = 0.023\\nsamples = 7\\nvalue = 3.6'),\n",
       " Text(78.06995515695067, 101.925, 'X[2] <= 0.25\\nmse = 0.022\\nsamples = 5\\nvalue = 3.62'),\n",
       " Text(75.06726457399104, 88.33500000000001, 'X[0] <= 5.25\\nmse = 0.017\\nsamples = 4\\nvalue = 3.575'),\n",
       " Text(72.0645739910314, 74.745, 'X[0] <= 5.15\\nmse = 0.002\\nsamples = 2\\nvalue = 3.45'),\n",
       " Text(69.06188340807175, 61.155, 'mse = 0.0\\nsamples = 1\\nvalue = 3.4'),\n",
       " Text(75.06726457399104, 61.155, 'mse = -0.0\\nsamples = 1\\nvalue = 3.5'),\n",
       " Text(78.06995515695067, 74.745, 'mse = -0.0\\nsamples = 2\\nvalue = 3.7'),\n",
       " Text(81.07264573991031, 88.33500000000001, 'mse = -0.0\\nsamples = 1\\nvalue = 3.8'),\n",
       " Text(90.08071748878923, 101.925, 'X[0] <= 5.25\\nmse = 0.023\\nsamples = 2\\nvalue = 3.55'),\n",
       " Text(87.0780269058296, 88.33500000000001, 'mse = 0.0\\nsamples = 1\\nvalue = 3.7'),\n",
       " Text(93.08340807174888, 88.33500000000001, 'mse = 0.0\\nsamples = 1\\nvalue = 3.4'),\n",
       " Text(93.08340807174888, 129.10500000000002, 'X[1] <= 1.75\\nmse = 0.0\\nsamples = 2\\nvalue = 3.8'),\n",
       " Text(90.08071748878923, 115.515, 'mse = 0.0\\nsamples = 1\\nvalue = 3.8'),\n",
       " Text(96.08609865470852, 115.515, 'mse = 0.0\\nsamples = 1\\nvalue = 3.8'),\n",
       " Text(87.82869955156951, 156.285, 'mse = 0.0\\nsamples = 1\\nvalue = 3.3'),\n",
       " Text(111.09955156950673, 169.875, 'X[2] <= 0.35\\nmse = 0.098\\nsamples = 5\\nvalue = 3.98'),\n",
       " Text(108.09686098654709, 156.285, 'X[1] <= 1.35\\nmse = 0.067\\nsamples = 4\\nvalue = 3.875'),\n",
       " Text(102.09147982062781, 142.695, 'X[0] <= 5.65\\nmse = 0.062\\nsamples = 2\\nvalue = 3.75'),\n",
       " Text(99.08878923766817, 129.10500000000002, 'mse = 0.0\\nsamples = 1\\nvalue = 3.5'),\n",
       " Text(105.09417040358744, 129.10500000000002, 'mse = 0.0\\nsamples = 1\\nvalue = 4.0'),\n",
       " Text(114.10224215246637, 142.695, 'X[0] <= 5.6\\nmse = 0.04\\nsamples = 2\\nvalue = 4.0'),\n",
       " Text(111.09955156950673, 129.10500000000002, 'mse = 0.0\\nsamples = 1\\nvalue = 4.2'),\n",
       " Text(117.104932735426, 129.10500000000002, 'mse = -0.0\\nsamples = 1\\nvalue = 3.8'),\n",
       " Text(114.10224215246637, 156.285, 'mse = -0.0\\nsamples = 1\\nvalue = 4.4'),\n",
       " Text(246.2206278026906, 197.055, 'X[0] <= 6.25\\nmse = 0.115\\nsamples = 82\\nvalue = 2.89'),\n",
       " Text(183.3517937219731, 183.465, 'X[1] <= 4.05\\nmse = 0.091\\nsamples = 42\\nvalue = 2.721'),\n",
       " Text(147.88251121076235, 169.875, 'X[2] <= 1.05\\nmse = 0.055\\nsamples = 13\\nvalue = 2.492'),\n",
       " Text(132.1183856502242, 156.285, 'X[0] <= 5.25\\nmse = 0.042\\nsamples = 5\\nvalue = 2.32'),\n",
       " Text(126.11300448430494, 142.695, 'X[1] <= 3.4\\nmse = 0.04\\nsamples = 2\\nvalue = 2.2'),\n",
       " Text(123.1103139013453, 129.10500000000002, 'mse = 0.0\\nsamples = 1\\nvalue = 2.4'),\n",
       " Text(129.11569506726457, 129.10500000000002, 'mse = -0.0\\nsamples = 1\\nvalue = 2.0'),\n",
       " Text(138.1237668161435, 142.695, 'X[1] <= 3.6\\nmse = 0.027\\nsamples = 3\\nvalue = 2.4'),\n",
       " Text(135.12107623318386, 129.10500000000002, 'mse = 0.0\\nsamples = 1\\nvalue = 2.6'),\n",
       " Text(141.12645739910315, 129.10500000000002, 'X[0] <= 5.75\\nmse = 0.01\\nsamples = 2\\nvalue = 2.3'),\n",
       " Text(138.1237668161435, 115.515, 'mse = 0.0\\nsamples = 1\\nvalue = 2.4'),\n",
       " Text(144.1291479820628, 115.515, 'mse = 0.0\\nsamples = 1\\nvalue = 2.2'),\n",
       " Text(163.64663677130045, 156.285, 'X[0] <= 5.55\\nmse = 0.033\\nsamples = 8\\nvalue = 2.6'),\n",
       " Text(156.13991031390134, 142.695, 'X[2] <= 1.35\\nmse = 0.02\\nsamples = 4\\nvalue = 2.5'),\n",
       " Text(153.1372197309417, 129.10500000000002, 'X[0] <= 5.3\\nmse = 0.009\\nsamples = 3\\nvalue = 2.433'),\n",
       " Text(150.13452914798208, 115.515, 'mse = 0.0\\nsamples = 1\\nvalue = 2.5'),\n",
       " Text(156.13991031390134, 115.515, 'mse = 0.01\\nsamples = 2\\nvalue = 2.4'),\n",
       " Text(159.14260089686098, 129.10500000000002, 'mse = -0.0\\nsamples = 1\\nvalue = 2.7'),\n",
       " Text(171.15336322869956, 142.695, 'X[2] <= 1.25\\nmse = 0.025\\nsamples = 4\\nvalue = 2.7'),\n",
       " Text(165.14798206278027, 129.10500000000002, 'X[1] <= 3.95\\nmse = 0.003\\nsamples = 2\\nvalue = 2.55'),\n",
       " Text(162.14529147982063, 115.515, 'mse = 0.0\\nsamples = 1\\nvalue = 2.5'),\n",
       " Text(168.15067264573992, 115.515, 'mse = 0.0\\nsamples = 1\\nvalue = 2.6'),\n",
       " Text(177.15874439461885, 129.10500000000002, 'X[1] <= 3.8\\nmse = 0.003\\nsamples = 2\\nvalue = 2.85'),\n",
       " Text(174.1560538116592, 115.515, 'mse = 0.0\\nsamples = 1\\nvalue = 2.9'),\n",
       " Text(180.16143497757847, 115.515, 'mse = 0.0\\nsamples = 1\\nvalue = 2.8'),\n",
       " Text(218.82107623318387, 169.875, 'X[2] <= 2.15\\nmse = 0.073\\nsamples = 29\\nvalue = 2.824'),\n",
       " Text(207.93632286995515, 156.285, 'X[1] <= 4.95\\nmse = 0.066\\nsamples = 27\\nvalue = 2.804'),\n",
       " Text(195.1748878923767, 142.695, 'X[0] <= 6.15\\nmse = 0.055\\nsamples = 21\\nvalue = 2.857'),\n",
       " Text(189.1695067264574, 129.10500000000002, 'X[0] <= 5.15\\nmse = 0.036\\nsamples = 19\\nvalue = 2.895'),\n",
       " Text(186.16681614349775, 115.515, 'mse = 0.0\\nsamples = 1\\nvalue = 2.5'),\n",
       " Text(192.17219730941704, 115.515, 'X[2] <= 1.35\\nmse = 0.029\\nsamples = 18\\nvalue = 2.917'),\n",
       " Text(177.15874439461885, 101.925, 'X[0] <= 5.55\\nmse = 0.019\\nsamples = 8\\nvalue = 2.813'),\n",
       " Text(174.1560538116592, 88.33500000000001, 'mse = 0.0\\nsamples = 1\\nvalue = 2.6'),\n",
       " Text(180.16143497757847, 88.33500000000001, 'X[0] <= 5.75\\nmse = 0.014\\nsamples = 7\\nvalue = 2.843'),\n",
       " Text(174.1560538116592, 74.745, 'X[1] <= 4.15\\nmse = 0.014\\nsamples = 5\\nvalue = 2.88'),\n",
       " Text(171.15336322869956, 61.155, 'mse = 0.0\\nsamples = 1\\nvalue = 3.0'),\n",
       " Text(177.15874439461885, 61.155, 'X[2] <= 1.25\\nmse = 0.012\\nsamples = 4\\nvalue = 2.85'),\n",
       " Text(174.1560538116592, 47.565, 'mse = 0.0\\nsamples = 1\\nvalue = 3.0'),\n",
       " Text(180.16143497757847, 47.565, 'X[0] <= 5.65\\nmse = 0.007\\nsamples = 3\\nvalue = 2.8'),\n",
       " Text(177.15874439461885, 33.974999999999994, 'mse = 0.0\\nsamples = 1\\nvalue = 2.7'),\n",
       " Text(183.1641255605381, 33.974999999999994, 'X[1] <= 4.35\\nmse = 0.003\\nsamples = 2\\nvalue = 2.85'),\n",
       " Text(180.16143497757847, 20.38499999999999, 'mse = 0.0\\nsamples = 1\\nvalue = 2.9'),\n",
       " Text(186.16681614349775, 20.38499999999999, 'mse = 0.0\\nsamples = 1\\nvalue = 2.8'),\n",
       " Text(186.16681614349775, 74.745, 'X[1] <= 4.4\\nmse = 0.002\\nsamples = 2\\nvalue = 2.75'),\n",
       " Text(183.1641255605381, 61.155, 'mse = 0.0\\nsamples = 1\\nvalue = 2.7'),\n",
       " Text(189.1695067264574, 61.155, 'mse = -0.0\\nsamples = 1\\nvalue = 2.8'),\n",
       " Text(207.18565022421524, 101.925, 'X[2] <= 1.9\\nmse = 0.022\\nsamples = 10\\nvalue = 3.0'),\n",
       " Text(204.18295964125562, 88.33500000000001, 'X[2] <= 1.55\\nmse = 0.02\\nsamples = 9\\nvalue = 3.022'),\n",
       " Text(198.17757847533633, 74.745, 'X[0] <= 5.95\\nmse = 0.002\\nsamples = 6\\nvalue = 2.967'),\n",
       " Text(195.1748878923767, 61.155, 'mse = 0.0\\nsamples = 3\\nvalue = 3.0'),\n",
       " Text(201.18026905829598, 61.155, 'X[1] <= 4.65\\nmse = 0.002\\nsamples = 3\\nvalue = 2.933'),\n",
       " Text(198.17757847533633, 47.565, 'X[0] <= 6.05\\nmse = 0.002\\nsamples = 2\\nvalue = 2.95'),\n",
       " Text(195.1748878923767, 33.974999999999994, 'mse = 0.0\\nsamples = 1\\nvalue = 2.9'),\n",
       " Text(201.18026905829598, 33.974999999999994, 'mse = -0.0\\nsamples = 1\\nvalue = 3.0'),\n",
       " Text(204.18295964125562, 47.565, 'mse = -0.0\\nsamples = 1\\nvalue = 2.9'),\n",
       " Text(210.18834080717488, 74.745, 'X[1] <= 4.65\\nmse = 0.036\\nsamples = 3\\nvalue = 3.133'),\n",
       " Text(207.18565022421524, 61.155, 'mse = 0.0\\nsamples = 1\\nvalue = 3.4'),\n",
       " Text(213.19103139013453, 61.155, 'mse = 0.0\\nsamples = 2\\nvalue = 3.0'),\n",
       " Text(210.18834080717488, 88.33500000000001, 'mse = -0.0\\nsamples = 1\\nvalue = 2.8'),\n",
       " Text(201.18026905829598, 129.10500000000002, 'X[3] <= 1.5\\nmse = 0.09\\nsamples = 2\\nvalue = 2.5'),\n",
       " Text(198.17757847533633, 115.515, 'mse = 0.0\\nsamples = 1\\nvalue = 2.2'),\n",
       " Text(204.18295964125562, 115.515, 'mse = 0.0\\nsamples = 1\\nvalue = 2.8'),\n",
       " Text(220.69775784753364, 142.695, 'X[1] <= 5.05\\nmse = 0.058\\nsamples = 6\\nvalue = 2.617'),\n",
       " Text(213.19103139013453, 129.10500000000002, 'X[2] <= 1.75\\nmse = 0.022\\nsamples = 2\\nvalue = 2.35'),\n",
       " Text(210.18834080717488, 115.515, 'mse = 0.0\\nsamples = 1\\nvalue = 2.2'),\n",
       " Text(216.19372197309417, 115.515, 'mse = -0.0\\nsamples = 1\\nvalue = 2.5'),\n",
       " Text(228.20448430493275, 129.10500000000002, 'X[2] <= 1.7\\nmse = 0.022\\nsamples = 4\\nvalue = 2.75'),\n",
       " Text(222.19910313901346, 115.515, 'X[0] <= 6.05\\nmse = 0.002\\nsamples = 2\\nvalue = 2.65'),\n",
       " Text(219.19641255605382, 101.925, 'mse = 0.0\\nsamples = 1\\nvalue = 2.7'),\n",
       " Text(225.2017937219731, 101.925, 'mse = -0.0\\nsamples = 1\\nvalue = 2.6'),\n",
       " Text(234.209865470852, 115.515, 'X[2] <= 1.85\\nmse = 0.023\\nsamples = 2\\nvalue = 2.85'),\n",
       " Text(231.2071748878924, 101.925, 'mse = 0.0\\nsamples = 1\\nvalue = 3.0'),\n",
       " Text(237.21255605381165, 101.925, 'mse = -0.0\\nsamples = 1\\nvalue = 2.7'),\n",
       " Text(229.70582959641257, 156.285, 'X[0] <= 6.0\\nmse = 0.09\\nsamples = 2\\nvalue = 3.1'),\n",
       " Text(226.70313901345293, 142.695, 'mse = 0.0\\nsamples = 1\\nvalue = 2.8'),\n",
       " Text(232.70852017937221, 142.695, 'mse = 0.0\\nsamples = 1\\nvalue = 3.4'),\n",
       " Text(309.0894618834081, 183.465, 'X[0] <= 7.8\\nmse = 0.078\\nsamples = 40\\nvalue = 3.068'),\n",
       " Text(306.08677130044845, 169.875, 'X[2] <= 2.45\\nmse = 0.066\\nsamples = 39\\nvalue = 3.049'),\n",
       " Text(300.08139013452916, 156.285, 'X[1] <= 6.8\\nmse = 0.059\\nsamples = 36\\nvalue = 3.019'),\n",
       " Text(297.0786995515695, 142.695, 'X[2] <= 2.15\\nmse = 0.055\\nsamples = 35\\nvalue = 3.031'),\n",
       " Text(268.36547085201795, 129.10500000000002, 'X[1] <= 4.75\\nmse = 0.044\\nsamples = 27\\nvalue = 2.981'),\n",
       " Text(250.72466367713005, 115.515, 'X[0] <= 6.45\\nmse = 0.024\\nsamples = 8\\nvalue = 3.075'),\n",
       " Text(243.21793721973094, 101.925, 'X[1] <= 4.6\\nmse = 0.003\\nsamples = 2\\nvalue = 3.25'),\n",
       " Text(240.2152466367713, 88.33500000000001, 'mse = 0.0\\nsamples = 1\\nvalue = 3.2'),\n",
       " Text(246.2206278026906, 88.33500000000001, 'mse = 0.0\\nsamples = 1\\nvalue = 3.3'),\n",
       " Text(258.23139013452914, 101.925, 'X[0] <= 6.65\\nmse = 0.018\\nsamples = 6\\nvalue = 3.017'),\n",
       " Text(252.22600896860988, 88.33500000000001, 'X[1] <= 4.5\\nmse = 0.007\\nsamples = 3\\nvalue = 2.9'),\n",
       " Text(249.22331838565023, 74.745, 'mse = 0.0\\nsamples = 1\\nvalue = 3.0'),\n",
       " Text(255.22869955156952, 74.745, 'X[2] <= 1.4\\nmse = 0.003\\nsamples = 2\\nvalue = 2.85'),\n",
       " Text(252.22600896860988, 61.155, 'mse = 0.0\\nsamples = 1\\nvalue = 2.9'),\n",
       " Text(258.23139013452914, 61.155, 'mse = 0.0\\nsamples = 1\\nvalue = 2.8'),\n",
       " Text(264.2367713004484, 88.33500000000001, 'X[0] <= 6.85\\nmse = 0.002\\nsamples = 3\\nvalue = 3.133'),\n",
       " Text(261.2340807174888, 74.745, 'mse = 0.0\\nsamples = 2\\nvalue = 3.1'),\n",
       " Text(267.23946188340807, 74.745, 'mse = -0.0\\nsamples = 1\\nvalue = 3.2'),\n",
       " Text(286.0062780269058, 115.515, 'X[0] <= 6.35\\nmse = 0.047\\nsamples = 19\\nvalue = 2.942'),\n",
       " Text(283.0035874439462, 101.925, 'mse = 0.0\\nsamples = 1\\nvalue = 2.5'),\n",
       " Text(289.00896860986546, 101.925, 'X[1] <= 5.75\\nmse = 0.038\\nsamples = 18\\nvalue = 2.967'),\n",
       " Text(276.247533632287, 88.33500000000001, 'X[1] <= 5.65\\nmse = 0.027\\nsamples = 12\\nvalue = 3.008'),\n",
       " Text(273.24484304932736, 74.745, 'X[0] <= 6.45\\nmse = 0.021\\nsamples = 11\\nvalue = 2.982'),\n",
       " Text(265.73811659192825, 61.155, 'X[2] <= 1.85\\nmse = 0.029\\nsamples = 3\\nvalue = 2.867'),\n",
       " Text(262.7354260089686, 47.565, 'mse = 0.0\\nsamples = 1\\nvalue = 3.1'),\n",
       " Text(268.7408071748879, 47.565, 'X[1] <= 5.45\\nmse = 0.003\\nsamples = 2\\nvalue = 2.75'),\n",
       " Text(265.73811659192825, 33.974999999999994, 'mse = 0.0\\nsamples = 1\\nvalue = 2.7'),\n",
       " Text(271.74349775784754, 33.974999999999994, 'mse = -0.0\\nsamples = 1\\nvalue = 2.8'),\n",
       " Text(280.75156950672647, 61.155, 'X[1] <= 4.85\\nmse = 0.012\\nsamples = 8\\nvalue = 3.025'),\n",
       " Text(277.7488789237668, 47.565, 'mse = 0.0\\nsamples = 1\\nvalue = 2.8'),\n",
       " Text(283.7542600896861, 47.565, 'X[1] <= 5.15\\nmse = 0.005\\nsamples = 7\\nvalue = 3.057'),\n",
       " Text(277.7488789237668, 33.974999999999994, 'X[3] <= 1.5\\nmse = 0.007\\nsamples = 3\\nvalue = 3.1'),\n",
       " Text(274.7461883408072, 20.38499999999999, 'X[2] <= 1.6\\nmse = 0.002\\nsamples = 2\\nvalue = 3.05'),\n",
       " Text(271.74349775784754, 6.7949999999999875, 'mse = 0.0\\nsamples = 1\\nvalue = 3.1'),\n",
       " Text(277.7488789237668, 6.7949999999999875, 'mse = 0.0\\nsamples = 1\\nvalue = 3.0'),\n",
       " Text(280.75156950672647, 20.38499999999999, 'mse = 0.0\\nsamples = 1\\nvalue = 3.2'),\n",
       " Text(289.7596412556054, 33.974999999999994, 'X[0] <= 6.85\\nmse = 0.002\\nsamples = 4\\nvalue = 3.025'),\n",
       " Text(286.75695067264576, 20.38499999999999, 'mse = 0.0\\nsamples = 3\\nvalue = 3.0'),\n",
       " Text(292.76233183856505, 20.38499999999999, 'mse = 0.0\\nsamples = 1\\nvalue = 3.1'),\n",
       " Text(279.25022421524665, 74.745, 'mse = 0.0\\nsamples = 1\\nvalue = 3.3'),\n",
       " Text(301.770403587444, 88.33500000000001, 'X[0] <= 6.9\\nmse = 0.048\\nsamples = 6\\nvalue = 2.883'),\n",
       " Text(298.76771300448434, 74.745, 'mse = 0.0\\nsamples = 1\\nvalue = 2.5'),\n",
       " Text(304.77309417040357, 74.745, 'X[0] <= 7.3\\nmse = 0.022\\nsamples = 5\\nvalue = 2.96'),\n",
       " Text(301.770403587444, 61.155, 'X[1] <= 5.95\\nmse = 0.009\\nsamples = 3\\nvalue = 3.067'),\n",
       " Text(298.76771300448434, 47.565, 'X[0] <= 7.15\\nmse = 0.0\\nsamples = 2\\nvalue = 3.0'),\n",
       " Text(295.7650224215247, 33.974999999999994, 'mse = 0.0\\nsamples = 1\\nvalue = 3.0'),\n",
       " Text(301.770403587444, 33.974999999999994, 'mse = 0.0\\nsamples = 1\\nvalue = 3.0'),\n",
       " Text(304.77309417040357, 47.565, 'mse = 0.0\\nsamples = 1\\nvalue = 3.2'),\n",
       " Text(307.7757847533632, 61.155, 'mse = -0.0\\nsamples = 2\\nvalue = 2.8'),\n",
       " Text(325.7919282511211, 129.10500000000002, 'X[1] <= 6.4\\nmse = 0.058\\nsamples = 8\\nvalue = 3.2'),\n",
       " Text(322.78923766816143, 115.515, 'X[0] <= 7.3\\nmse = 0.007\\nsamples = 7\\nvalue = 3.114'),\n",
       " Text(319.7865470852018, 101.925, 'X[2] <= 2.25\\nmse = 0.006\\nsamples = 6\\nvalue = 3.133'),\n",
       " Text(316.78385650224214, 88.33500000000001, 'mse = 0.0\\nsamples = 1\\nvalue = 3.0'),\n",
       " Text(322.78923766816143, 88.33500000000001, 'X[1] <= 5.65\\nmse = 0.002\\nsamples = 5\\nvalue = 3.16'),\n",
       " Text(316.78385650224214, 74.745, 'X[0] <= 6.55\\nmse = 0.002\\nsamples = 3\\nvalue = 3.133'),\n",
       " Text(313.7811659192825, 61.155, 'mse = 0.0\\nsamples = 1\\nvalue = 3.2'),\n",
       " Text(319.7865470852018, 61.155, 'mse = -0.0\\nsamples = 2\\nvalue = 3.1'),\n",
       " Text(328.7946188340807, 74.745, 'X[0] <= 6.85\\nmse = 0.0\\nsamples = 2\\nvalue = 3.2'),\n",
       " Text(325.7919282511211, 61.155, 'mse = 0.0\\nsamples = 1\\nvalue = 3.2'),\n",
       " Text(331.79730941704037, 61.155, 'mse = 0.0\\nsamples = 1\\nvalue = 3.2'),\n",
       " Text(325.7919282511211, 101.925, 'mse = -0.0\\nsamples = 1\\nvalue = 3.0'),\n",
       " Text(328.7946188340807, 115.515, 'mse = 0.0\\nsamples = 1\\nvalue = 3.8'),\n",
       " Text(303.0840807174888, 142.695, 'mse = 0.0\\nsamples = 1\\nvalue = 2.6'),\n",
       " Text(312.09215246636774, 156.285, 'X[1] <= 6.05\\nmse = 0.02\\nsamples = 3\\nvalue = 3.4'),\n",
       " Text(309.0894618834081, 142.695, 'mse = 0.0\\nsamples = 2\\nvalue = 3.3'),\n",
       " Text(315.0948430493274, 142.695, 'mse = 0.0\\nsamples = 1\\nvalue = 3.6'),\n",
       " Text(312.09215246636774, 169.875, 'mse = 0.0\\nsamples = 1\\nvalue = 3.8')]"
      ]
     },
     "execution_count": 24,
     "metadata": {},
     "output_type": "execute_result"
    },
    {
     "data": {
      "image/png": "[encoded data removed]",
      "text/plain": [
       "<Figure size 432x288 with 1 Axes>"
      ]
     },
     "metadata": {
      "needs_background": "light"
     },
     "output_type": "display_data"
    }
   ],
   "source": [
    "tree.plot_tree(model)"
   ]
  },
  {
   "cell_type": "code",
   "execution_count": null,
   "metadata": {},
   "outputs": [],
   "source": []
  }
 ],
 "metadata": {
  "interpreter": {
   "hash": "9164a3399a70d355c381b62813f30880ed90ca5a6f321bf0d85375640bda7ee5"
  },
  "kernelspec": {
   "display_name": "Python 3.7.2rc1 64-bit",
   "name": "python3"
  },
  "language_info": {
   "codemirror_mode": {
    "name": "ipython",
    "version": 3
   },
   "file_extension": ".py",
   "mimetype": "text/x-python",
   "name": "python",
   "nbconvert_exporter": "python",
   "pygments_lexer": "ipython3",
   "version": "3.7.2"
  }
 },
 "nbformat": 4,
 "nbformat_minor": 2
}
