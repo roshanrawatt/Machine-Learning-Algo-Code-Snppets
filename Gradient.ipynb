{
 "cells": [
  {
   "cell_type": "code",
   "execution_count": 1,
   "id": "84aa47c6",
   "metadata": {},
   "outputs": [
    {
     "data": {
      "text/plain": [
       "1.0"
      ]
     },
     "execution_count": 1,
     "metadata": {},
     "output_type": "execute_result"
    }
   ],
   "source": [
    "#consider a one dimensional function x-log(x) with gradient 1-(1/x) the gradient descent fuctioon for this 1-D function to fund \n",
    "#minima of it \n",
    "\n",
    "def gradientdescent(gradient,start,learnrate,n_iter):\n",
    "    x=start\n",
    "    for _ in range(n_iter):\n",
    "        g_step=-(learnrate*gradient(x))\n",
    "        x+=g_step\n",
    "    return x\n",
    "\n",
    "\n",
    "gradientdescent(gradient=lambda v:1-(1/v),start=2.5,learnrate=0.5,n_iter=100)\n",
    "\n"
   ]
  },
  {
   "cell_type": "code",
   "execution_count": 2,
   "id": "1a0b0b3a",
   "metadata": {},
   "outputs": [
    {
     "name": "stdout",
     "output_type": "stream",
     "text": [
      "1.0000000000000002\n"
     ]
    }
   ],
   "source": [
    "#consider a one dimensional function x-log(x) with gradient 1-(1/x) the gradient descent fuctioon for this 1-D function to fund \n",
    "#minima of it \n",
    "\n",
    "def gradientdescent(gradient,start,learnrate,n_iter):\n",
    "    x=start\n",
    "    for _ in range(n_iter):\n",
    "        g_step=-(learnrate*gradient(x))\n",
    "        x+=g_step\n",
    "    return x\n",
    "\n",
    "\n",
    "print(gradientdescent(gradient=lambda v:1-(1/v),start=2.5,learnrate=0.4,n_iter=100))\n",
    "\n"
   ]
  },
  {
   "cell_type": "code",
   "execution_count": 3,
   "id": "9db66d2f",
   "metadata": {},
   "outputs": [
    {
     "name": "stdout",
     "output_type": "stream",
     "text": [
      "2.046980738154936e-06\n"
     ]
    }
   ],
   "source": [
    "#consider a one dimensional function x^2 with gradient 2*x the gradient descent fuctioon for this 1-D function to fund \n",
    "#minima of it \n",
    "import numpy as np\n",
    "def gradientdescent(gradient,start,learnrate,n_iter,tolerance=1e-06):\n",
    "    x=start\n",
    "    for _ in range(n_iter):\n",
    "        g_step=-(learnrate*gradient(x))\n",
    "        if np.all(np.abs(g_step)<=tolerance):\n",
    "            break\n",
    "        x+=g_step\n",
    "    return x\n",
    "\n",
    "# print(gradientdescent(gradient=lambda v:2*v,start=2.0,learnrate=0.2,n_iter=100))\n",
    "# print(gradientdescent(gradient=lambda v:2*v,start=2.0,learnrate=0.005,n_iter=1000))\n",
    "# print(gradientdescent(gradient=lambda v:2*v,start=2.0,learnrate=0.005,n_iter=2000))\n",
    "# print(gradientdescent(gradient=lambda v:2*v,start=2.0,learnrate=0.8,n_iter=1000))\n",
    "print(gradientdescent(gradient=lambda v:2*v,start=2.0,learnrate=0.2,n_iter=100))\n",
    "\n"
   ]
  },
  {
   "cell_type": "code",
   "execution_count": 4,
   "id": "ad755862",
   "metadata": {},
   "outputs": [
    {
     "name": "stdout",
     "output_type": "stream",
     "text": [
      "[3.92699082 3.92699082]\n"
     ]
    }
   ],
   "source": [
    "#find the optimum value function for v0 and v1 such that with this values we get minimum of the function sin(x)+cos(y)\n",
    "import math\n",
    "import numpy as np\n",
    "def gradientdescent(gradient,start,learnrate,n_iter):\n",
    "    x=start\n",
    "    for _ in range(n_iter):\n",
    "        g_step=-(learnrate*gradient(x))\n",
    "        x+=g_step\n",
    "    return x\n",
    "\n",
    "print(gradientdescent(gradient=lambda v:math.cos(v[0])-math.sin(v[1]),start=np.array([1.0,1.0]),learnrate=0.2,n_iter=100))"
   ]
  },
  {
   "cell_type": "code",
   "execution_count": 5,
   "id": "893c7d1b",
   "metadata": {},
   "outputs": [],
   "source": [
    "#applying gradient descent algorithm to ssr(sum of suqared residuals ) \n",
    "\n",
    "from warnings import resetwarnings\n",
    "\n",
    "\n",
    "def gradient(x,y,b):\n",
    "    res=b[0]+b[1]*x-y\n",
    "    return res.mean,(res * x).mean()"
   ]
  },
  {
   "cell_type": "code",
   "execution_count": null,
   "id": "e9b0b403",
   "metadata": {},
   "outputs": [],
   "source": []
  }
 ],
 "metadata": {
  "kernelspec": {
   "display_name": "Python 3",
   "language": "python",
   "name": "python3"
  },
  "language_info": {
   "codemirror_mode": {
    "name": "ipython",
    "version": 3
   },
   "file_extension": ".py",
   "mimetype": "text/x-python",
   "name": "python",
   "nbconvert_exporter": "python",
   "pygments_lexer": "ipython3",
   "version": "3.8.8"
  }
 },
 "nbformat": 4,
 "nbformat_minor": 5
}
